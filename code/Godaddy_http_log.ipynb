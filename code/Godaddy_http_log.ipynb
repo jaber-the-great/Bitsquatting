{
 "cells": [
  {
   "cell_type": "code",
   "execution_count": 40,
   "metadata": {},
   "outputs": [],
   "source": [
    "import shlex \n",
    "f = open(\"same_time_as_synPcap.log\", \"r\")\n",
    "d = f.readlines()"
   ]
  },
  {
   "cell_type": "code",
   "execution_count": 41,
   "metadata": {},
   "outputs": [],
   "source": [
    "data= []\n",
    "for item in d: \n",
    "    row = shlex.split(item)\n",
    "    data.append(row)"
   ]
  },
  {
   "cell_type": "code",
   "execution_count": 43,
   "metadata": {},
   "outputs": [
    {
     "data": {
      "text/plain": [
       "['40.117.185.219',\n",
       " '-',\n",
       " '-',\n",
       " '[24/Aug/2022:13:42:18',\n",
       " '+0000]',\n",
       " 'www.stackoverdlow.com',\n",
       " 'GET / HTTP/1.1',\n",
       " '200',\n",
       " '227',\n",
       " 'http://stackoverdlow.com/',\n",
       " 'Mozilla/5.0 (Windows NT 6.1; WOW64) AppleWebKit/534.24 (KHTML, like Gecko) Chrome/11.0.696.71 Safari/534.24',\n",
       " '1.30']"
      ]
     },
     "execution_count": 43,
     "metadata": {},
     "output_type": "execute_result"
    }
   ],
   "source": [
    "haveRefere = []\n",
    "for item in data:\n",
    "    if item[9] != '-':\n",
    "        haveRefere.append(item)\n",
    "#         print(item[5] + \" , \" + item[9])\n",
    "haveRefere.pop(0)"
   ]
  },
  {
   "cell_type": "code",
   "execution_count": 44,
   "metadata": {},
   "outputs": [
    {
     "data": {
      "text/plain": [
       "93"
      ]
     },
     "execution_count": 44,
     "metadata": {},
     "output_type": "execute_result"
    }
   ],
   "source": [
    "len(haveRefere)"
   ]
  },
  {
   "cell_type": "code",
   "execution_count": null,
   "metadata": {},
   "outputs": [],
   "source": [
    "# from 1391 to 8107"
   ]
  },
  {
   "cell_type": "code",
   "execution_count": 85,
   "metadata": {},
   "outputs": [
    {
     "name": "stdout",
     "output_type": "stream",
     "text": [
      "Requirement already satisfied: pytz in c:\\users\\jaber\\anaconda3\\lib\\site-packages (2020.1)\n",
      "Note: you may need to restart the kernel to use updated packages.\n"
     ]
    }
   ],
   "source": [
    "pip install pytz"
   ]
  },
  {
   "cell_type": "code",
   "execution_count": 86,
   "metadata": {},
   "outputs": [],
   "source": [
    "from scapy.all import *\n",
    "import pyshark\n",
    "import datetime\n",
    "import pytz"
   ]
  },
  {
   "cell_type": "code",
   "execution_count": 52,
   "metadata": {},
   "outputs": [],
   "source": [
    "syn = rdpcap(\"Only_syn.pcap\")"
   ]
  },
  {
   "cell_type": "code",
   "execution_count": 67,
   "metadata": {},
   "outputs": [],
   "source": [
    "f1 = open(\"same_time_as_synPcap.log\",'r')\n",
    "d1 = http.readlines()\n",
    "web= []\n",
    "for item in d: \n",
    "    row = shlex.split(item)\n",
    "    web.append(row)"
   ]
  },
  {
   "cell_type": "code",
   "execution_count": 78,
   "metadata": {},
   "outputs": [
    {
     "name": "stdout",
     "output_type": "stream",
     "text": [
      "1661362935.860426\n",
      "1661362940.860426\n"
     ]
    }
   ],
   "source": [
    "# print(syn[0].time) \n",
    "# syn[0].time= syn[0].time + 5\n",
    "# print(syn[0].time)"
   ]
  },
  {
   "cell_type": "code",
   "execution_count": 83,
   "metadata": {},
   "outputs": [
    {
     "data": {
      "text/plain": [
       "Decimal('1661362940.467367')"
      ]
     },
     "execution_count": 83,
     "metadata": {},
     "output_type": "execute_result"
    }
   ],
   "source": [
    "syn[2].time"
   ]
  },
  {
   "cell_type": "markdown",
   "metadata": {},
   "source": [
    "The data in .pcap file is in epoch format. The following function converts epoch time to datatime and also modifies the timezone to match with the Nginx log file"
   ]
  },
  {
   "cell_type": "code",
   "execution_count": 84,
   "metadata": {},
   "outputs": [
    {
     "name": "stdout",
     "output_type": "stream",
     "text": [
      "Given epoch time: 1661362940.467367\n",
      "Converted Datetime: 2022-08-24 12:42:20.467367\n"
     ]
    }
   ],
   "source": [
    "\n",
    "  \n",
    "  \n",
    "# given epoch time  \n",
    "epoch_time =  1661362940.467367\n",
    "  \n",
    "# using the datetime.fromtimestamp() function  \n",
    "date_time = datetime.datetime.fromtimestamp( epoch_time )  \n",
    "  \n",
    "# printing the value  \n",
    "print(\"Given epoch time:\", epoch_time)  \n",
    "print(\"Converted Datetime:\", date_time )  "
   ]
  },
  {
   "cell_type": "code",
   "execution_count": null,
   "metadata": {},
   "outputs": [],
   "source": []
  },
  {
   "cell_type": "code",
   "execution_count": 76,
   "metadata": {},
   "outputs": [
    {
     "data": {
      "text/plain": [
       "['139.162.12.79',\n",
       " '-',\n",
       " '-',\n",
       " '[25/Aug/2022:03:08:05',\n",
       " '+0000]',\n",
       " 'whatsaqp.com',\n",
       " 'HEAD / HTTP/1.1',\n",
       " '200',\n",
       " '0',\n",
       " '-',\n",
       " 'Go-http-client/1.1',\n",
       " '-']"
      ]
     },
     "execution_count": 76,
     "metadata": {},
     "output_type": "execute_result"
    }
   ],
   "source": [
    "web[1000]"
   ]
  },
  {
   "cell_type": "code",
   "execution_count": 77,
   "metadata": {},
   "outputs": [
    {
     "name": "stdout",
     "output_type": "stream",
     "text": [
      "[25/Aug/2022:03:07:15\n",
      "[25/Aug/2022:03:08:05\n",
      "[25/Aug/2022:18:26:10\n",
      "[25/Aug/2022:18:26:56\n",
      "[26/Aug/2022:09:21:32\n",
      "[26/Aug/2022:09:22:20\n",
      "[26/Aug/2022:22:35:15\n",
      "[26/Aug/2022:22:39:11\n",
      "[27/Aug/2022:07:53:27\n",
      "[27/Aug/2022:07:54:15\n"
     ]
    }
   ],
   "source": [
    "for item in web:\n",
    "    if item[0] == '139.162.12.79':\n",
    "        print(item[3])"
   ]
  },
  {
   "cell_type": "code",
   "execution_count": null,
   "metadata": {},
   "outputs": [],
   "source": []
  }
 ],
 "metadata": {
  "kernelspec": {
   "display_name": "Python 3",
   "language": "python",
   "name": "python3"
  },
  "language_info": {
   "codemirror_mode": {
    "name": "ipython",
    "version": 3
   },
   "file_extension": ".py",
   "mimetype": "text/x-python",
   "name": "python",
   "nbconvert_exporter": "python",
   "pygments_lexer": "ipython3",
   "version": "3.8.3"
  }
 },
 "nbformat": 4,
 "nbformat_minor": 4
}
